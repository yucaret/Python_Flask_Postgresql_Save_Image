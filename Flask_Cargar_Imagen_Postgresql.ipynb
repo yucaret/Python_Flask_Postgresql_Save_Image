{
 "cells": [
  {
   "cell_type": "code",
   "execution_count": 1,
   "id": "d1a274e8",
   "metadata": {},
   "outputs": [],
   "source": [
    "from flask import Flask, render_template, request, redirect, url_for, flash\n",
    "import psycopg2\n",
    "import os\n",
    "import datetime"
   ]
  },
  {
   "cell_type": "markdown",
   "id": "f0b73123",
   "metadata": {},
   "source": [
    "## Settings"
   ]
  },
  {
   "cell_type": "code",
   "execution_count": 2,
   "id": "3d7be5d7",
   "metadata": {},
   "outputs": [],
   "source": [
    "app =  Flask(__name__)\n",
    "app.secret_key = 'mysecretkey'\n",
    "\n",
    "app.config['UPLOAD_FOLDER'] = 'static/uploads/'\n",
    "app.config['MAX_CONTENT_LENGTH'] = 16*1024*1024"
   ]
  },
  {
   "cell_type": "markdown",
   "id": "cb2c1190",
   "metadata": {},
   "source": [
    "## Conexion a Base de Datos"
   ]
  },
  {
   "cell_type": "code",
   "execution_count": 3,
   "id": "2bb0dc7a",
   "metadata": {},
   "outputs": [],
   "source": [
    "db_host = 'colocar tu host'\n",
    "db_database = 'colocar tu base de datos'\n",
    "db_user = 'colocar tu usuario'\n",
    "db_password = 'colocar tu contraseña'\n",
    "\n",
    "def connect_postgresql():\n",
    "    \n",
    "    conn = psycopg2.connect(\n",
    "        host=db_host,\n",
    "        database=db_database,\n",
    "        user=db_user,\n",
    "        password=db_password\n",
    "    )\n",
    "    \n",
    "    return conn"
   ]
  },
  {
   "cell_type": "markdown",
   "id": "b8167aa2",
   "metadata": {},
   "source": [
    "## Utilities"
   ]
  },
  {
   "cell_type": "code",
   "execution_count": 4,
   "id": "78202882",
   "metadata": {},
   "outputs": [],
   "source": [
    "def es_archivo_permitido(filename):\n",
    "    return '.' in filename and filename.rsplit('.', 1)[1].lower() in ['png','jpg','jpeg','gif']"
   ]
  },
  {
   "cell_type": "code",
   "execution_count": 5,
   "id": "7f291cdb",
   "metadata": {},
   "outputs": [],
   "source": [
    "def convertir_a_binario(filename):\n",
    "    with open(filename, 'rb') as f:\n",
    "        blob = f.read()\n",
    "        \n",
    "    blob = psycopg2.Binary(blob)\n",
    "    \n",
    "    return blob"
   ]
  },
  {
   "cell_type": "markdown",
   "id": "798adf5c",
   "metadata": {},
   "source": [
    "# Consultas a Base de Datos"
   ]
  },
  {
   "cell_type": "code",
   "execution_count": 6,
   "id": "0e90bdeb",
   "metadata": {},
   "outputs": [],
   "source": [
    "def select_autolecturas():\n",
    "    query = \"\"\"\n",
    "    SELECT a.idautolectura, b.dni, c.cuenta,\n",
    "    a.fechacargafoto, a.horacargafoto, a.fotocargada,\n",
    "    a.fechaobtencionlectura, a.horaobtencionlectura, a.lecturaobtencion, a.estadoactivo,\n",
    "    a.idpersona, a.idsuministro\n",
    "    FROM autolectura a, persona b, suministro c\n",
    "    WHERE a.idsuministro = c.idsuministro\n",
    "    AND a.idpersona = b.idpersona\n",
    "    \"\"\"\n",
    "\n",
    "    conn = connect_postgresql()\n",
    "    cur = conn.cursor()\n",
    "    cur.execute(query) \n",
    "    \n",
    "    list_persona = cur.fetchall()\n",
    "\n",
    "    cur.close()\n",
    "    conn.close()\n",
    "    \n",
    "    return list_persona"
   ]
  },
  {
   "cell_type": "markdown",
   "id": "c1a32854",
   "metadata": {},
   "source": [
    "## Flask"
   ]
  },
  {
   "cell_type": "code",
   "execution_count": 7,
   "id": "75323532",
   "metadata": {},
   "outputs": [],
   "source": [
    "@app.route('/')\n",
    "\n",
    "def index():\n",
    "    \n",
    "    data = select_autolecturas()\n",
    "\n",
    "    return render_template('index.html', autolecturas = data)"
   ]
  },
  {
   "cell_type": "code",
   "execution_count": 8,
   "id": "71a9a6dd",
   "metadata": {},
   "outputs": [],
   "source": [
    "@app.route('/add_autolectura', methods = ['POST'])\n",
    "\n",
    "def add_autolectura():\n",
    "    \n",
    "    try:\n",
    "        \n",
    "        if request.method == 'POST':\n",
    "            \n",
    "           \n",
    "            if 'file' not in request.files:\n",
    "                flash('No hay archivo seleccionado')\n",
    "                return redirect(url_for('index'))\n",
    "            \n",
    "            file = request.files['file']\n",
    "            \n",
    "            if file.filename == '':\n",
    "                flash('No hay imagen seleccionada')\n",
    "                return redirect(url_for('index'))\n",
    "            \n",
    "            if file and es_archivo_permitido(file.filename):\n",
    "                \n",
    "                data1 = file.filename\n",
    "                \n",
    "                fullfilename = os.path.join(app.config['UPLOAD_FOLDER'], file.filename)\n",
    "                \n",
    "                file.save(fullfilename)\n",
    "                \n",
    "                blob = convertir_a_binario(fullfilename)\n",
    "                \n",
    "                idpersona = request.form['idpersona']\n",
    "                idsuministro = request.form['idsuministro']\n",
    "            \n",
    "                now = datetime.datetime.now()\n",
    "            \n",
    "                fechacargafoto = str(now.year) + str('00' + str(now.month))[-2:] + str('00' + str(now.day))[-2:]\n",
    "                horacargafoto = str('00' + str(now.hour))[-2:] + str('00' + str(now.minute))[-2:] + str('00' + str(now.second))[-2:]\n",
    "            \n",
    "                query1 = \"\"\"UPDATE autolectura\n",
    "                SET estadoactivo = 0\n",
    "                WHERE idpersona = {} AND idsuministro = {} AND estadoactivo = 1\n",
    "                \"\"\".format(idpersona,\n",
    "                           idsuministro\n",
    "                          )\n",
    "                \n",
    "                query2 = \"\"\"INSERT INTO autolectura (\n",
    "                idautolectura,\n",
    "                idpersona,\n",
    "                idsuministro,\n",
    "                fechacargafoto,\n",
    "                horacargafoto,\n",
    "                fotocargada,\n",
    "                estadoactivo) \n",
    "                VALUES (DEFAULT, {}, {}, '{}', '{}', {}, 1)\"\"\".format(idpersona,\n",
    "                                                                      idsuministro,\n",
    "                                                                      fechacargafoto,\n",
    "                                                                      horacargafoto,\n",
    "                                                                      blob\n",
    "                                                                     )\n",
    "                \n",
    "                #query de actualizacion\n",
    "                conn = connect_postgresql()\n",
    "                cur = conn.cursor()\n",
    "        \n",
    "                cur.execute(query1)\n",
    "                \n",
    "                conn.commit()\n",
    "                \n",
    "                cur.close()\n",
    "                conn.close()\n",
    "                \n",
    "                #query de insercion\n",
    "                conn = connect_postgresql()\n",
    "                cur = conn.cursor()\n",
    "                \n",
    "                cur.execute(query2)\n",
    "                \n",
    "                conn.commit()\n",
    "        \n",
    "                count = cur.rowcount\n",
    "        \n",
    "                cur.close()\n",
    "                conn.close()\n",
    "\n",
    "                flash(str(count) + ' imagen cargada correctamente')\n",
    "                \n",
    "                data2 = select_autolecturas()\n",
    "                \n",
    "                return render_template('index.html', filename = data1, autolecturas = data2)\n",
    "            else:\n",
    "                \n",
    "                flash('Archivos permitidos .png .jpg .jpeg .gif')\n",
    "                \n",
    "                return redirect(url_for('index'))\n",
    "\n",
    "    except Exception as e:\n",
    "        \n",
    "        print(e)\n",
    "        \n",
    "    return redirect(url_for('index'))"
   ]
  },
  {
   "cell_type": "code",
   "execution_count": 9,
   "id": "3ff34e2c",
   "metadata": {},
   "outputs": [],
   "source": [
    "@app.route('/display_image/<string:filename>')\n",
    "\n",
    "def display_image(filename):\n",
    "    return redirect(url_for('static', filename = 'uploads/' + filename), code = 301)"
   ]
  },
  {
   "cell_type": "markdown",
   "id": "c7b5e934",
   "metadata": {},
   "source": [
    "## Ejecucion"
   ]
  },
  {
   "cell_type": "code",
   "execution_count": 10,
   "id": "69a29a41",
   "metadata": {},
   "outputs": [
    {
     "name": "stdout",
     "output_type": "stream",
     "text": [
      " * Serving Flask app \"__main__\" (lazy loading)\n",
      " * Environment: production\n",
      "\u001b[31m   WARNING: This is a development server. Do not use it in a production deployment.\u001b[0m\n",
      "\u001b[2m   Use a production WSGI server instead.\u001b[0m\n",
      " * Debug mode: off\n"
     ]
    },
    {
     "name": "stderr",
     "output_type": "stream",
     "text": [
      " * Running on http://127.0.0.1:5000/ (Press CTRL+C to quit)\n",
      "127.0.0.1 - - [12/Jul/2021 02:25:22] \"\u001b[37mGET / HTTP/1.1\u001b[0m\" 200 -\n",
      "127.0.0.1 - - [12/Jul/2021 02:25:45] \"\u001b[37mPOST /add_autolectura HTTP/1.1\u001b[0m\" 200 -\n"
     ]
    }
   ],
   "source": [
    "#Ejecuta el servidor en el puerto 5000\n",
    "if __name__ == '__main__':\n",
    "    app.run()"
   ]
  }
 ],
 "metadata": {
  "kernelspec": {
   "display_name": "Python 3",
   "language": "python",
   "name": "python3"
  },
  "language_info": {
   "codemirror_mode": {
    "name": "ipython",
    "version": 3
   },
   "file_extension": ".py",
   "mimetype": "text/x-python",
   "name": "python",
   "nbconvert_exporter": "python",
   "pygments_lexer": "ipython3",
   "version": "3.7.10"
  }
 },
 "nbformat": 4,
 "nbformat_minor": 5
}
